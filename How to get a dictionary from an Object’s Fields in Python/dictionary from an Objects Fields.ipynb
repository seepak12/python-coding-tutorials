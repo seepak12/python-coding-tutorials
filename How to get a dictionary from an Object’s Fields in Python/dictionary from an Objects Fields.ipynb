{
 "cells": [
  {
   "cell_type": "markdown",
   "id": "62c0cc15",
   "metadata": {},
   "source": [
    "## How to get a dictionary from an Object’s Fields in Python"
   ]
  },
  {
   "cell_type": "markdown",
   "id": "8c259c01",
   "metadata": {},
   "source": [
    "In this article, we will look at how to get a dictionary from an object’s field in Python. When we want to get a dictionary from the object’s field, we want to get the class members. We can use one of the two methods discussed below to get the object attributes in the dictionary format."
   ]
  },
  {
   "cell_type": "markdown",
   "id": "0288f5a0",
   "metadata": {},
   "source": [
    "### Using __dict__ attribute:"
   ]
  },
  {
   "cell_type": "code",
   "execution_count": 2,
   "id": "cb310948",
   "metadata": {},
   "outputs": [
    {
     "name": "stdout",
     "output_type": "stream",
     "text": [
      "90 60\n",
      "\r\n",
      "{'train': 90, 'test': 60}\n"
     ]
    }
   ],
   "source": [
    "# Declaring accuracy class\n",
    "class accuracy:\n",
    "    \n",
    "    # Init method or constructor\n",
    "    def __init__(self):\n",
    "        \n",
    "        # Initializing keys with their respective values/ Instance variables\n",
    "        self.train = 90\n",
    "        self.test = 60\n",
    "    \n",
    "    # Defining a method\n",
    "    def evaluation(self):\n",
    "        print(self.train, self.test)\n",
    "\n",
    "# score object of accuracy class \n",
    "score = accuracy()\n",
    "\n",
    "# calling evaluation method\n",
    "score.evaluation()\n",
    "\n",
    "print(\"\\r\")\n",
    "\n",
    "# calling __dict__ attribute on score object and printing it\n",
    "print(score.__dict__)"
   ]
  },
  {
   "cell_type": "markdown",
   "id": "dda17ba5",
   "metadata": {},
   "source": [
    "We can generate a dictionary from an arbitrary object using the __dict__ attribute. Every object in Python has __dict__ attribute. When we can call this attribute, we get the output object in a dictionary format. The resultant dictionary contains all the attributes of the object we want to inspect. The dictionary is generated via the mapping of attributes with their values. We have Initialized the instance variables as keys with their respective values inside the constructor method. Then we have defined another method to print the values. Lastly, we have created an object of the declared class and called the __dict__ attribute on that object to get the dictionary."
   ]
  },
  {
   "cell_type": "markdown",
   "id": "7995afa9",
   "metadata": {},
   "source": [
    "### Using the in-built vars method in Python"
   ]
  },
  {
   "cell_type": "code",
   "execution_count": 100,
   "id": "6d99cd57",
   "metadata": {},
   "outputs": [
    {
     "name": "stdout",
     "output_type": "stream",
     "text": [
      "90 60\n",
      "\r\n",
      "{'train': 90, 'test': 60}\n"
     ]
    }
   ],
   "source": [
    "# Declaring accuracy class\n",
    "class accuracy:\n",
    "    \n",
    "    # Init method or constructor\n",
    "    def __init__(self):\n",
    "        \n",
    "        # Initializing keys with their respective values/ Instance variables\n",
    "        self.train = 90\n",
    "        self.test = 60\n",
    "    \n",
    "    # Defining a method\n",
    "    def evaluation(self):\n",
    "        print(self.train, self.test)\n",
    "\n",
    "# score object of accuracy class \n",
    "score = accuracy()\n",
    "\n",
    "# calling evaluation method\n",
    "score.evaluation()\n",
    "\n",
    "print(\"\\r\")\n",
    "\n",
    "# calling vars method on score object \n",
    "print(vars(score))"
   ]
  },
  {
   "cell_type": "markdown",
   "id": "0adb6e89",
   "metadata": {},
   "source": [
    "We can also call the in-built the vars() method to do the same. This method is used to return the __dict__ attribute of a module, class, or object. Here, we have called the vars() method instead of the __dict__ attribute on the score object of the accuracy class. "
   ]
  },
  {
   "cell_type": "markdown",
   "id": "64745ca6",
   "metadata": {},
   "source": [
    "Both the methods discussed above will return the object attributes in dictionary format. In this case, we have printed the attributes of an object that we just defined. But we can use this attribute on any object whose contents can be inspected in dictionary format."
   ]
  }
 ],
 "metadata": {
  "kernelspec": {
   "display_name": "Python 3",
   "language": "python",
   "name": "python3"
  },
  "language_info": {
   "codemirror_mode": {
    "name": "ipython",
    "version": 3
   },
   "file_extension": ".py",
   "mimetype": "text/x-python",
   "name": "python",
   "nbconvert_exporter": "python",
   "pygments_lexer": "ipython3",
   "version": "3.8.8"
  }
 },
 "nbformat": 4,
 "nbformat_minor": 5
}
