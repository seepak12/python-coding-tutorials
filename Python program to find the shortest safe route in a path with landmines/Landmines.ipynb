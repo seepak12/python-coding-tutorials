{
 "cells": [
  {
   "cell_type": "markdown",
   "id": "54166d9e",
   "metadata": {},
   "source": [
    "## Python program to find the shortest safe route in a path with landmines"
   ]
  },
  {
   "cell_type": "markdown",
   "id": "3bee71ec",
   "metadata": {},
   "source": [
    "In this Python tutorial, we will go through the program to find the length of the shortest safe route possible from a safe cell in the first column of the matrix to a safe cell in the last column. The condition for the safe route is that we have to avoid the landmines placed randomly in the rectangular matrix."
   ]
  },
  {
   "cell_type": "markdown",
   "id": "ee78d632",
   "metadata": {},
   "source": [
    "### Conditions:"
   ]
  },
  {
   "cell_type": "markdown",
   "id": "e047c1b6",
   "metadata": {},
   "source": [
    "* Cells marked with ‘0’ and their adjacent cells (left, right, above, and below) are to be avoided while traversing through the matrix as they all are unsafe cells.\n",
    "* Diagonal moves are not allowed, we can only move through the edge of any cell of the matrix."
   ]
  },
  {
   "cell_type": "markdown",
   "id": "712c3eb7",
   "metadata": {},
   "source": [
    "### Breadth-First Search"
   ]
  },
  {
   "cell_type": "markdown",
   "id": "df3cde6a",
   "metadata": {},
   "source": [
    "We will use the breadth-first search algorithm to solve this traversal problem. This approach is optimal as the time complexity is linear in the form of O(m*n)."
   ]
  },
  {
   "cell_type": "markdown",
   "id": "ffe7f495",
   "metadata": {},
   "source": [
    "* We will first import deque (Doubly Ended Queue) from the collections module. This will allow us to do quicker append and pop operations from both the ends of the container, with a time complexity of O(1) as compared to O(n) time complexity in the case of a list.\n",
    "* We will create a class called pair to define the properties of a cell in the matrix in the form of its rows and columns. We will then assign the first as the row number and the second as the column number using the __init__ function. \n",
    "* Next, we will define a function to check if a cell is inside the range of m or not, with the help of the number of rows and columns in the matrix."
   ]
  },
  {
   "cell_type": "code",
   "execution_count": 6,
   "id": "448a6f57",
   "metadata": {},
   "outputs": [],
   "source": [
    "import sys\n",
    "from collections import deque\n",
    "\n",
    "# class for storing pair of numbers\n",
    "class Pair:\n",
    "    def __init__(self, first, second):\n",
    "        self.first = first\n",
    "        self.second = second\n",
    "\n",
    "\n",
    "# checks if x & y doesn't exceed row and col constraint of matrix\n",
    "def isInsideRangeOfMatrix(x, y):\n",
    "    if (x >= row or y >= col or x < 0 or y < 0):\n",
    "        return False\n",
    "    return True"
   ]
  },
  {
   "cell_type": "markdown",
   "id": "816e5b7f",
   "metadata": {},
   "source": [
    "### Defining the function to find the shortest path:"
   ]
  },
  {
   "cell_type": "markdown",
   "id": "70907a9b",
   "metadata": {},
   "source": [
    "* If a cell with a landmine is found, we will mark all its adjacent cells as unsafe as well using a for loop. After marking those cells, we will also replace the value within the cells with 0. \n",
    "* We will then create a boolean matrix with a similar dimension to store info about cells already visited in the current route."
   ]
  },
  {
   "cell_type": "code",
   "execution_count": 7,
   "id": "3ba6fc3a",
   "metadata": {},
   "outputs": [],
   "source": [
    "def findShortestPathBetweenColumns(mat, row, col):\n",
    "    # Set value of all the neighbouring cells of the cells having landmine as min value or marker\n",
    "    marker = sys.maxsize\n",
    "    for i in range(row):\n",
    "        for j in range(col):\n",
    "            if (mat[i][j] == 0):\n",
    "                for k in range(4):\n",
    "                    if (isInsideRangeOfMatrix(i + rowDir[k], j + colDir[k])):\n",
    "                        mat[i + rowDir[k]][j + colDir[k]] = marker\n",
    "    # Replace those marker value with 0\n",
    "    for i in range(row):\n",
    "        for j in range(col):\n",
    "            if (mat[i][j] == marker):\n",
    "                mat[i][j] = 0\n",
    "    # dist[i][j] stores minimum distance from first column to ith row and jth column cell\n",
    "    # initialized with -1 which indicates paths are not found\n",
    "    dist = [[-1 for i in range(col)] for j in range(row)]\n",
    "\n",
    "    # queue is being used to implement BFS (breadth first search) and stores pair of numbers\n",
    "    # where first indicates curr row and second indicates curr column\n",
    "    queue = deque()\n",
    "    '''\n",
    "        All the elements in first column having value 1 is considered as source\n",
    "        and all those elements are added into queue \n",
    "        as these will be the first level elements in the queue in level order traversal.\n",
    "        As these elements are source, dist till ith row and 0th col will be 0\n",
    "        and hence, dist[i][0] is marked as 0 for all possible i\n",
    "    '''\n",
    "    for i in range(row):\n",
    "        if mat[i][0] == 1:\n",
    "            queue.append(Pair(i,0))\n",
    "            dist[i][0] = 0\n",
    "\n",
    "    '''\n",
    "        1. Remove the first element from the queue\n",
    "        2. All the elements present in the queue are updated with minimum dist\n",
    "        3. For all the neighbouring elements where it's possible to move i.e, mat[next_x][next_y] == 1\n",
    "           and dist is not updated i.e, dist[next_x][next_y] == -1\n",
    "           (which means that this was the first parent in the level order traversal trying to update it's child\n",
    "            which in turn means that the distance will actually be minimum),\n",
    "           update dist of it's child node i.e, dist[next_x][next_y] = curr_dist + 1\n",
    "           where curr_dist is distance till the parent node\n",
    "           and add these elements in the queue\n",
    "    '''\n",
    "    while len(queue) > 0:\n",
    "        curr_pair = queue.popleft()\n",
    "        curr_dist = dist[curr_pair.first][curr_pair.second]\n",
    "        curr_x = curr_pair.first\n",
    "        curr_y = curr_pair.second\n",
    "        for k in range(4):\n",
    "            next_x = curr_x + rowDir[k]\n",
    "            next_y = curr_y + colDir[k]\n",
    "            if (isInsideRangeOfMatrix(next_x, next_y) and dist[next_x][next_y] == -1 and mat[next_x][next_y] == 1):\n",
    "                dist[next_x][next_y] = curr_dist + 1\n",
    "                queue.append(Pair(next_x, next_y))\n",
    "\n",
    "    ans = sys.maxsize\n",
    "    # Take minimum of all the distances which can reach to the last column\n",
    "    for i in range(row):\n",
    "        if dist[i][col-1] != -1:\n",
    "            ans = min(ans, dist[i][col-1])\n",
    "\n",
    "    if ans == sys.maxsize:\n",
    "        print(\"No possible paths found between first column and last column.\")\n",
    "    else:\n",
    "        print(\"Length of shortest path between first column and last column is \", ans)"
   ]
  },
  {
   "cell_type": "markdown",
   "id": "41d710a1",
   "metadata": {},
   "source": [
    "### Breadth-first search algorithm"
   ]
  },
  {
   "cell_type": "markdown",
   "id": "4e73c0f1",
   "metadata": {},
   "source": [
    "1. We will initialize the deque() container and assign it to the variable named queue, and for any safe cell found in the first column, we will append its indices to the queue. Also, we will update the distance from -1 to 0 as we can traverse forward from this cell now.\n",
    "1. Then we will use a while loop to update the current queue back to an empty queue, its distance back to -1, and get the coordinates of the cell already visited. Inside the while loop, we will use a for loop to check if any of the adjacent cells is safe, move to that cell, and update the dist with an increment of 1 and subsequently append the queue. \n",
    "1. Within the main scope of the shortest path definition, we will check if we have reached the last cell of the matrix and the distance is not equal to -1. If so, we will collect the shortest route in ‘ans’ variable as the minimum of distance incremented through the traversal and the maxsize attribute of the sys module.\n",
    "1. Finally, we can call the findShortestPath function with a matrix of certain dimensions as the parameter. Here, we will initialize a matrix of 4×4, and call the function."
   ]
  },
  {
   "cell_type": "code",
   "execution_count": 8,
   "id": "589b36cd",
   "metadata": {},
   "outputs": [
    {
     "name": "stdout",
     "output_type": "stream",
     "text": [
      "Length of shortest path between first column and last column is  4\n"
     ]
    }
   ],
   "source": [
    "# row denotes no of rows\n",
    "# col denotes no of columns\n",
    "row = 4\n",
    "col = 4\n",
    "\n",
    "'''\n",
    " 4 Directions - North, West, East, South\n",
    " North - (-1, 0)\n",
    " West  - (0, -1)\n",
    " East  - (0, 1)\n",
    " South - (1, 0)\n",
    " rowDir stores change in row value of north, west, east & south directions respectively\n",
    " colDir stores change in col value of north, west, east & south directions respectively\n",
    "'''\n",
    "rowDir = [-1, 0, 0, 1]\n",
    "colDir = [0, -1, 1, 0]\n",
    "\n",
    "# input matrix\n",
    "matrix = [[1, 1, 0, 0],\n",
    "        [1, 1, 1, 1],\n",
    "        [1, 1, 1, 1],\n",
    "        [0, 1, 1, 1]]\n",
    "\n",
    "# Find shortest path between first column and last column\n",
    "findShortestPathBetweenColumns(matrix, row, col)"
   ]
  }
 ],
 "metadata": {
  "kernelspec": {
   "display_name": "Python 3",
   "language": "python",
   "name": "python3"
  },
  "language_info": {
   "codemirror_mode": {
    "name": "ipython",
    "version": 3
   },
   "file_extension": ".py",
   "mimetype": "text/x-python",
   "name": "python",
   "nbconvert_exporter": "python",
   "pygments_lexer": "ipython3",
   "version": "3.8.8"
  }
 },
 "nbformat": 4,
 "nbformat_minor": 5
}
