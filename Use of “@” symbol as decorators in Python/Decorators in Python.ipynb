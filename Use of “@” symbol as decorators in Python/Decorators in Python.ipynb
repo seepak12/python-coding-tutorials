{
 "cells": [
  {
   "cell_type": "markdown",
   "id": "aed427d9",
   "metadata": {},
   "source": [
    "### CodeWihHarry"
   ]
  },
  {
   "cell_type": "code",
   "execution_count": 1,
   "id": "80ba9adc",
   "metadata": {},
   "outputs": [
    {
     "name": "stdout",
     "output_type": "stream",
     "text": [
      "Before function execution\n",
      "This is inside the function\n",
      "After function execution\n"
     ]
    }
   ],
   "source": [
    "def inner1(func): \n",
    "    def inner2():\n",
    "        print(\"Before function execution\"); \n",
    "        func() \n",
    "        print(\"After function execution\")    \n",
    "    return inner2 \n",
    "\n",
    "@inner1\n",
    "def function_to_be_used(): \n",
    "    print(\"This is inside the function\") \n",
    "\n",
    "function_to_be_used()"
   ]
  },
  {
   "cell_type": "code",
   "execution_count": 2,
   "id": "24a5ee01",
   "metadata": {},
   "outputs": [
    {
     "name": "stdout",
     "output_type": "stream",
     "text": [
      "Executing now\n",
      "Harry is a good boy\n",
      "Executed\n"
     ]
    }
   ],
   "source": [
    "# def function1():\n",
    "#     print(\"Subscribe now\")\n",
    "#\n",
    "# func2 = function1\n",
    "# del function1\n",
    "# func2()\n",
    "\n",
    "# def funcret(num):\n",
    "#     if num==0:\n",
    "#         return print\n",
    "#     if num==1:\n",
    "#         return sum\n",
    "#\n",
    "# a = funcret(1)\n",
    "# print(a)\n",
    "\n",
    "# def executor(func):\n",
    "#     func(\"this\")\n",
    "#\n",
    "#\n",
    "# executor(print)\n",
    "\n",
    "def dec1(func1):\n",
    "    def nowexec():\n",
    "        print(\"Executing now\")\n",
    "        func1()\n",
    "        print(\"Executed\")\n",
    "    return nowexec\n",
    "\n",
    "@dec1\n",
    "def who_is_harry():\n",
    "    print(\"Harry is a good boy\")\n",
    "\n",
    "# who_is_harry = dec1(who_is_harry)\n",
    "\n",
    "who_is_harry()"
   ]
  },
  {
   "cell_type": "markdown",
   "id": "a59e8358",
   "metadata": {},
   "source": [
    "### ChoreySchafer"
   ]
  },
  {
   "cell_type": "code",
   "execution_count": 3,
   "id": "d14b635a",
   "metadata": {},
   "outputs": [
    {
     "name": "stdout",
     "output_type": "stream",
     "text": [
      "wrapper function executed this before full_name function\n",
      "full_name function ran with arguments (Seepak, Kumar)\n",
      "And the full name is Seepak Kumar\n"
     ]
    }
   ],
   "source": [
    "def decorator_func(original_func):\n",
    "    def wrapper_func(*args, **kwargs):\n",
    "        print('wrapper function executed this before {} function'.format(original_func.__name__))\n",
    "        return original_func(*args, **kwargs)\n",
    "    return wrapper_func\n",
    "\n",
    "def full_name(first_name, last_name):\n",
    "    print('full_name function ran with arguments ({}, {})'.format(first_name, last_name))\n",
    "    print('And the full name is', first_name, last_name)\n",
    "    \n",
    "name = decorator_func(full_name)\n",
    "name('Seepak', 'Kumar')"
   ]
  },
  {
   "cell_type": "code",
   "execution_count": 4,
   "id": "86ef97c9",
   "metadata": {},
   "outputs": [
    {
     "name": "stdout",
     "output_type": "stream",
     "text": [
      "wrapper function executed this before full_name function\n",
      "full_name function ran with arguments (Seepak, Kumar)\n",
      "And the full name is Seepak Kumar\n"
     ]
    }
   ],
   "source": [
    "def decorator_func(original_func):\n",
    "    def wrapper_func(*args, **kwargs):\n",
    "        print('wrapper function executed this before {} function'.format(original_func.__name__))\n",
    "        return original_func(*args, **kwargs)\n",
    "    return wrapper_func\n",
    "\n",
    "@decorator_func\n",
    "def full_name(first_name, last_name):\n",
    "    print('full_name function ran with arguments ({}, {})'.format(first_name, last_name))\n",
    "    print('And the full name is', first_name, last_name)\n",
    "    \n",
    "full_name('Seepak', 'Kumar')    "
   ]
  },
  {
   "cell_type": "code",
   "execution_count": 5,
   "id": "35b35ffb",
   "metadata": {},
   "outputs": [
    {
     "name": "stdout",
     "output_type": "stream",
     "text": [
      "wrapper function executed this before display\n",
      "display function ran\n"
     ]
    }
   ],
   "source": [
    "def decorator_func(original_func):\n",
    "    def wrapper_func(*args, **kwargs):\n",
    "        print('wrapper function executed this before {}'.format(original_func.__name__))\n",
    "        return original_func(*args, **kwargs)\n",
    "    return wrapper_func\n",
    "\n",
    "@decorator_func\n",
    "def display():\n",
    "    print('display function ran')\n",
    "    \n",
    "display()    "
   ]
  },
  {
   "cell_type": "code",
   "execution_count": 6,
   "id": "b9d2c1c7",
   "metadata": {},
   "outputs": [
    {
     "name": "stdout",
     "output_type": "stream",
     "text": [
      "[[18, 14], [62, 66]]\n"
     ]
    }
   ],
   "source": [
    "class Mat(list):\n",
    "    def __matmul__(self, B):\n",
    "        A = self\n",
    "        return Mat([[sum(A[i][k]*B[k][j] for k in range(len(B)))\n",
    "                    for j in range(len(B[0])) ] for i in range(len(A))])\n",
    "\n",
    "A = Mat([[1,3],[7,5]])\n",
    "B = Mat([[6,8],[4,2]])\n",
    "\n",
    "print(A @ B)"
   ]
  },
  {
   "cell_type": "code",
   "execution_count": 7,
   "id": "dfb64ea5",
   "metadata": {},
   "outputs": [
    {
     "name": "stdout",
     "output_type": "stream",
     "text": [
      "2\n",
      "2\n",
      "2\n"
     ]
    }
   ],
   "source": [
    "print(len(B[0]))\n",
    "print(len(B))\n",
    "print(len(A))"
   ]
  },
  {
   "cell_type": "code",
   "execution_count": 8,
   "id": "c86c4a1a",
   "metadata": {},
   "outputs": [],
   "source": [
    "# A = Mat([[1,3],[7,5]])\n",
    "# B = Mat([[6,8],[4,2]])\n",
    "\n",
    "# for k in range(len(B)) and i in range(len(A)):\n",
    "#     a = A[i][k]\n",
    "# for k in range(len(B)):\n",
    "#     b = B[k][j]\n",
    "\n",
    "# print(a,b)"
   ]
  },
  {
   "cell_type": "code",
   "execution_count": 9,
   "id": "4657c93b",
   "metadata": {},
   "outputs": [
    {
     "name": "stdout",
     "output_type": "stream",
     "text": [
      "[[44, 46], [55, 67]]\n"
     ]
    }
   ],
   "source": [
    "class Mat(list):\n",
    "    def __matmul__(self, Y):\n",
    "        X = self\n",
    "        return Mat([[sum(X[i][k]*Y[k][j] for k in range(len(Y)))\n",
    "                    for j in range(len(Y[0]))] for i in range(len(X))])\n",
    "\n",
    "X = Mat([[2,5,4],\n",
    "         [3,4,7]])\n",
    "Y = Mat([[6,8],\n",
    "         [4,2],\n",
    "         [3,5]])\n",
    "\n",
    "print(X @ Y)"
   ]
  },
  {
   "cell_type": "code",
   "execution_count": 10,
   "id": "2a135395",
   "metadata": {},
   "outputs": [
    {
     "name": "stdout",
     "output_type": "stream",
     "text": [
      "[[44, 46], [55, 67]]\n",
      "\n",
      "\n",
      "[44, 46]\n",
      "[55, 67]\n"
     ]
    }
   ],
   "source": [
    "A = Mat([[2,5,4],\n",
    "         [3,4,7]])\n",
    "B = Mat([[6,8],\n",
    "         [4,2],\n",
    "         [3,5]])\n",
    "\n",
    "C = [[0,0],\n",
    "     [0,0]]\n",
    "for i in range(len(A)):\n",
    "    for j in range(len(B[0])):\n",
    "        for k in range(len(B)):\n",
    "            C[i][j] += A[i][k]*B[k][j]\n",
    "            \n",
    "print(C)\n",
    "print(\"\\n\")\n",
    "\n",
    "for row in C:\n",
    "    print(row)"
   ]
  },
  {
   "cell_type": "code",
   "execution_count": null,
   "id": "ce71cb8b",
   "metadata": {},
   "outputs": [],
   "source": []
  }
 ],
 "metadata": {
  "kernelspec": {
   "display_name": "Python 3",
   "language": "python",
   "name": "python3"
  },
  "language_info": {
   "codemirror_mode": {
    "name": "ipython",
    "version": 3
   },
   "file_extension": ".py",
   "mimetype": "text/x-python",
   "name": "python",
   "nbconvert_exporter": "python",
   "pygments_lexer": "ipython3",
   "version": "3.8.8"
  }
 },
 "nbformat": 4,
 "nbformat_minor": 5
}
