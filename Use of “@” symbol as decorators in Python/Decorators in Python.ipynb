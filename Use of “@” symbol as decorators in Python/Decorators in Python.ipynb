{
 "cells": [
  {
   "cell_type": "markdown",
   "id": "a59e8358",
   "metadata": {},
   "source": [
    "## What does “at” @ symbol do in Python"
   ]
  },
  {
   "cell_type": "markdown",
   "id": "df672e04",
   "metadata": {},
   "source": [
    "We use the “@” symbol at the start of a line for function or class decorators. A decorator is a function that takes another function as an argument, adds some functionalities, and returns the modified function. We can accomplish this without altering the source code for the original function. However, the modified function includes calls to the original function."
   ]
  },
  {
   "cell_type": "markdown",
   "id": "d7822af5",
   "metadata": {},
   "source": [
    "### Decorators in Python"
   ]
  },
  {
   "cell_type": "markdown",
   "id": "7ff7935c",
   "metadata": {},
   "source": [
    "Decorating the functions allows us to easily add functionality to our existing functions. We can do this by adding that functionality inside the wrapper function. So, without modifying our original function in any way, we can just add or alter any code we want inside the wrapper function. For example, we have printed that the wrapper function executed this before the original function. This is true as the original function was executed after the wrapper message."
   ]
  },
  {
   "cell_type": "code",
   "execution_count": 8,
   "id": "d14b635a",
   "metadata": {},
   "outputs": [
    {
     "name": "stdout",
     "output_type": "stream",
     "text": [
      "Wrapper function executed this before full_name function\n",
      "Full_name function ran with arguments (Seepak, Kumar)\n",
      "And the full name is Seepak Kumar\n"
     ]
    }
   ],
   "source": [
    "def decorator_func(original_func):\n",
    "    def wrapper_func(*args, **kwargs):\n",
    "        print('Wrapper function executed this before {} function'.format(original_func.__name__))\n",
    "        return original_func(*args, **kwargs)\n",
    "    return wrapper_func\n",
    "\n",
    "def full_name(first_name, last_name):\n",
    "    print('Full_name function ran with arguments ({}, {})'.format(first_name, last_name))\n",
    "    print('And the full name is', first_name, last_name)\n",
    "    \n",
    "name = decorator_func(full_name)\n",
    "name('Seepak', 'Kumar')"
   ]
  },
  {
   "cell_type": "markdown",
   "id": "a6035cdb",
   "metadata": {},
   "source": [
    "### Use of “@” symbol as decorators in Python"
   ]
  },
  {
   "cell_type": "markdown",
   "id": "52994f37",
   "metadata": {},
   "source": [
    "We usually use the “@” symbol to decorate functions in python. But, to understand what exactly is happening we can decorate functions without using them. Essentially, the function we define after a decorator is passed as an argument to the function following the “@” symbol. We can decorate all the functions with the same decorator that needs the same line of code from the wrapper function. For adding different modifications to a single function, we can even chain multiple decorators on top of each other."
   ]
  },
  {
   "cell_type": "markdown",
   "id": "06077175",
   "metadata": {},
   "source": [
    "Even though, these two are functionally the same, decorators with “@” are somewhat easier to read especially when we chain multiple decorators together. So, the syntax with “@” is the same thing as the decorator function with the original function passed in as an argument. We can differentiate between the two from the code snippets below."
   ]
  },
  {
   "cell_type": "code",
   "execution_count": 4,
   "id": "cf5ad2e9",
   "metadata": {},
   "outputs": [
    {
     "name": "stdout",
     "output_type": "stream",
     "text": [
      "Wrapper function executed this before full_name function\n",
      "Full_name function ran with arguments (Seepak, Kumar)\n",
      "And the full name is Seepak Kumar\n"
     ]
    }
   ],
   "source": [
    "def decorator_func(original_func):\n",
    "    def wrapper_func(*args, **kwargs):\n",
    "        print('Wrapper function executed this before {} function'.format(original_func.__name__))\n",
    "        return original_func(*args, **kwargs)\n",
    "    return wrapper_func\n",
    "\n",
    "@decorator_func\n",
    "def full_name(first_name, last_name):\n",
    "    print('Full_name function ran with arguments ({}, {})'.format(first_name, last_name))\n",
    "    print('And the full name is', first_name, last_name)\n",
    "    \n",
    "full_name('Seepak', 'Kumar')"
   ]
  },
  {
   "cell_type": "markdown",
   "id": "817edc70",
   "metadata": {},
   "source": [
    "To execute the original function with the arguments, we can add *args and **kwargs to our wrapper function. We will also pass this into our original function. We do this to pass any number of positional or keyword arguments to our wrapper function. <br>\n",
    "\n",
    "One of the more common use cases of decorators in Python is logging. This helps in keeping track of how many times a specific function is run and what arguments were passed to that function. Another example of the use of decorators is for timing how long a function runs."
   ]
  }
 ],
 "metadata": {
  "kernelspec": {
   "display_name": "Python 3",
   "language": "python",
   "name": "python3"
  },
  "language_info": {
   "codemirror_mode": {
    "name": "ipython",
    "version": 3
   },
   "file_extension": ".py",
   "mimetype": "text/x-python",
   "name": "python",
   "nbconvert_exporter": "python",
   "pygments_lexer": "ipython3",
   "version": "3.8.8"
  }
 },
 "nbformat": 4,
 "nbformat_minor": 5
}
