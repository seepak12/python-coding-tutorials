{
 "cells": [
  {
   "cell_type": "markdown",
   "id": "8415d200",
   "metadata": {},
   "source": [
    "## What does double slash // operator do in Python"
   ]
  },
  {
   "cell_type": "markdown",
   "id": "7ccbd7a3",
   "metadata": {},
   "source": [
    "When dealing with numbers, we sometimes need to truncate a float value by removing its decimal places. Unlike, Java where we simply typecast the value to an integer to get the truncated value, Python by default assumes the datatype of any input as integer or float."
   ]
  },
  {
   "cell_type": "markdown",
   "id": "03f3b831",
   "metadata": {},
   "source": [
    "### Round vs Truncate"
   ]
  },
  {
   "cell_type": "markdown",
   "id": "ebfe86b8",
   "metadata": {},
   "source": [
    "We have Math.floor() method to round down in JavaScript, and the equivalent of this functionality is not available in Python. We can use the round() function in Python to get a value to the nearest integer. It will return a floating-point number that is rounded with the specified number of decimals. The round() function will return the nearest integer value if the parameter for the number of decimals is not passed."
   ]
  },
  {
   "cell_type": "markdown",
   "id": "6ab50a9e",
   "metadata": {},
   "source": [
    "However, rounding a value is not the same as truncating it. While rounding it returns the nearest integer value based on the principle of mathematics whereas truncating just removes the decimal parts from the float datatype."
   ]
  },
  {
   "cell_type": "markdown",
   "id": "5495daa1",
   "metadata": {},
   "source": [
    "### Truncating with the double slash operator in Python"
   ]
  },
  {
   "cell_type": "markdown",
   "id": "c19a691d",
   "metadata": {},
   "source": [
    "To get the truncated value, we can use the integer division operator in Python. When we are dividing any number from another,  we can simply use the double forward slash. This operator will just keep the whole number component when we divide the left by the right number."
   ]
  },
  {
   "cell_type": "code",
   "execution_count": 2,
   "id": "d8ec61ec",
   "metadata": {},
   "outputs": [
    {
     "name": "stdout",
     "output_type": "stream",
     "text": [
      "4\n",
      "3\n"
     ]
    }
   ],
   "source": [
    "a = 11\n",
    "b = 3\n",
    "\n",
    "# rounded value of the simple division to the nearest integer\n",
    "c1 = round(a/b)\n",
    "\n",
    "# truncated value of the division with just the whole number part\n",
    "c2 = a // b\n",
    "\n",
    "print(c1)\n",
    "print(c2)"
   ]
  }
 ],
 "metadata": {
  "kernelspec": {
   "display_name": "Python 3",
   "language": "python",
   "name": "python3"
  },
  "language_info": {
   "codemirror_mode": {
    "name": "ipython",
    "version": 3
   },
   "file_extension": ".py",
   "mimetype": "text/x-python",
   "name": "python",
   "nbconvert_exporter": "python",
   "pygments_lexer": "ipython3",
   "version": "3.8.8"
  }
 },
 "nbformat": 4,
 "nbformat_minor": 5
}
