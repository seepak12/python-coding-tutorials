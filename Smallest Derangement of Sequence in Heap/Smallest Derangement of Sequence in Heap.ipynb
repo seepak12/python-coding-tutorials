{
 "cells": [
  {
   "cell_type": "markdown",
   "id": "b663c435",
   "metadata": {},
   "source": [
    "## Python program to find Smallest Derangement of Sequence in Heap"
   ]
  },
  {
   "cell_type": "markdown",
   "id": "c07052e5",
   "metadata": {},
   "source": [
    "In this tutorial, we will go through a program to compute the lexicographically smallest (earliest in dictionary order) derangement of a sequence in Python."
   ]
  },
  {
   "cell_type": "markdown",
   "id": "9aace15d",
   "metadata": {},
   "source": [
    "> Given a sequence: S = 1,2,3….n, a derangement of S is any permutation of S such that no two elements in S and its permutation occur at the same position. For example, if S = {1,2,3}, one of its derangement could be its reversed sequence i.e. {3,2,1}. But, it might not necessarily be the smallest derangement."
   ]
  },
  {
   "cell_type": "markdown",
   "id": "8e0e653f",
   "metadata": {},
   "source": [
    "We will be using a min-heap where we can successively get the least element and place them in more significant positions (minimum index positions). We will execute this algorithm while maintaining the property of derangement."
   ]
  },
  {
   "cell_type": "markdown",
   "id": "d48e75a0",
   "metadata": {},
   "source": [
    "In the function call, we will have the given sorted_sequence as the parameter. The output we will get is the smallest derangement sequence list which doesn’t have any common element with the sorted_sequence list."
   ]
  },
  {
   "cell_type": "markdown",
   "id": "24a1f625",
   "metadata": {},
   "source": [
    "### Program for Smallest Derangement of Sequence in Python"
   ]
  },
  {
   "cell_type": "code",
   "execution_count": 1,
   "id": "193b5144",
   "metadata": {},
   "outputs": [
    {
     "name": "stdout",
     "output_type": "stream",
     "text": [
      "[2, 1, 4, 3, 6, 7, 5]\n"
     ]
    }
   ],
   "source": [
    "import copy\n",
    "\n",
    "def lexicographical_smallest_derangement_sequence(sorted_sequence):\n",
    "    length = len(sorted_sequence)\n",
    "    derangement_sequence = [-1] * length\n",
    "    min_heap = copy.deepcopy(sorted_sequence)\n",
    "\n",
    "    for i in range(length):\n",
    "        min_heap.sort() # used for heapifying min heap\n",
    "        first_min = min_heap[0] # stores first minimum value of heap\n",
    "\n",
    "        if first_min != sorted_sequence[i] or len(min_heap) == 1:\n",
    "            derangement_sequence[i] = first_min\n",
    "            del min_heap[0] # removing first minimum\n",
    "        else:\n",
    "            second_min = min_heap[1] # stores second minimum value of heap \n",
    "            derangement_sequence[i] = second_min\n",
    "            del min_heap[1] # removing second minimum\n",
    "\n",
    "    if derangement_sequence[length - 1] == sorted_sequence[length - 1] and length >= 2:\n",
    "        temp = derangement_sequence[length - 2]\n",
    "        derangement_sequence[length - 2] = derangement_sequence[length - 1]\n",
    "        derangement_sequence[length - 1] = temp\n",
    "    return derangement_sequence\n",
    "\n",
    "sorted_sequence = [1, 2, 3, 4, 5, 6, 7]\n",
    "print(lexicographical_smallest_derangement_sequence(sorted_sequence))"
   ]
  },
  {
   "cell_type": "markdown",
   "id": "fa6774ac",
   "metadata": {},
   "source": [
    "* We will begin by getting the length of the given sequence. Then we will create a list for storing the derangement sequence with the same length as the given sequence.\n",
    "* Using the copy module, we will apply deepcopy() method on the sorted sequence to get the min_heap. This we will need for removing the first minimum or second minimum based on the match with the given sorted_sequence.\n",
    "* Using a for loop, we will call sort() method on min_heap for heapifying the min-heap. We will also store the first minimum value of the heap in the first_min variable.\n",
    "* Within the for loop, if there is no match between the first minimum value from heap and ith element at sorted_sequence after removing i-1 elements from the heap, we will remove only the first minimum from the heap and consider this value in the derangement sequence. Otherwise, we will remove only the second minimum from the heap and consider it in the derangement sequence.\n",
    "* Finally, if the last element is the same for given sorted_sequence and derangement_sequence, we will swap the last two elements of derangement_sequence. The time complexity of the program is O(N * log N)."
   ]
  }
 ],
 "metadata": {
  "kernelspec": {
   "display_name": "Python 3",
   "language": "python",
   "name": "python3"
  },
  "language_info": {
   "codemirror_mode": {
    "name": "ipython",
    "version": 3
   },
   "file_extension": ".py",
   "mimetype": "text/x-python",
   "name": "python",
   "nbconvert_exporter": "python",
   "pygments_lexer": "ipython3",
   "version": "3.8.8"
  }
 },
 "nbformat": 4,
 "nbformat_minor": 5
}
