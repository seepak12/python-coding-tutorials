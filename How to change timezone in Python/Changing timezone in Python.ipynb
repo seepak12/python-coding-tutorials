{
 "cells": [
  {
   "cell_type": "markdown",
   "id": "1929ce04",
   "metadata": {},
   "source": [
    "## How to change timezone in Python"
   ]
  },
  {
   "cell_type": "markdown",
   "id": "a6e88a0e",
   "metadata": {},
   "source": [
    "Sometimes the product or infrastructure engineers have to work on infrastructures that are spread out throughout the world. They have to work with machines that are in the US, Asia, Europe, and the UK, etc. So, time zones are all the more important for Python."
   ]
  },
  {
   "cell_type": "markdown",
   "id": "076ee15a",
   "metadata": {},
   "source": [
    "With the continuous advancement in today’s programming languages, there are plenty of modules maintained in almost all programming languages. In python, we have a time zone module called pytz, that allows for real-time cross-platform time zone calculations."
   ]
  },
  {
   "cell_type": "markdown",
   "id": "0e0c0d5a",
   "metadata": {},
   "source": [
    "### Getting current date and time in a specific format"
   ]
  },
  {
   "cell_type": "markdown",
   "id": "4b7f2c5f",
   "metadata": {},
   "source": [
    "To begin with, we will import the timezone library from the pytz module.\n",
    "\n",
    "To install this module you can use this pip command."
   ]
  },
  {
   "cell_type": "code",
   "execution_count": 2,
   "id": "44dac0a1",
   "metadata": {},
   "outputs": [
    {
     "name": "stdout",
     "output_type": "stream",
     "text": [
      "Requirement already satisfied: pytz in c:\\users\\seepa\\anaconda3\\lib\\site-packages (2021.1)\n",
      "Note: you may need to restart the kernel to use updated packages.\n"
     ]
    }
   ],
   "source": [
    "pip install pytz"
   ]
  },
  {
   "cell_type": "markdown",
   "id": "057b86ea",
   "metadata": {},
   "source": [
    "__Or for Linux:__\n",
    "\n"
   ]
  },
  {
   "cell_type": "markdown",
   "id": "4e9f0d14",
   "metadata": {},
   "source": [
    "$ sudo pip install pytz"
   ]
  },
  {
   "cell_type": "markdown",
   "id": "70635ddd",
   "metadata": {},
   "source": [
    "We will also need to import datetime from the datetime module. For the purpose of uniformity, we can specify the format in which we want our output of the date and time to be. In this program, we will specify it to be in YY-MM-DD HH:MM:SS format."
   ]
  },
  {
   "cell_type": "markdown",
   "id": "ba2b0f4a",
   "metadata": {},
   "source": [
    "On the datetime library, we will call the now() method to get the current time in the specified format as and when the code is run. However, the output timezone format will be in its datetime object format. So, to change it to a more readable format, we convert it to string time format by calling strftime() method on it."
   ]
  },
  {
   "cell_type": "code",
   "execution_count": 5,
   "id": "fc372f80",
   "metadata": {},
   "outputs": [
    {
     "name": "stdout",
     "output_type": "stream",
     "text": [
      "Date Time in defaut format:  2022-06-29 10:06:19.867179 \n",
      "\n",
      "Date Time in string format:  2022-0629 10:06:19 \n"
     ]
    }
   ],
   "source": [
    "from pytz import timezone\n",
    "from datetime import datetime\n",
    "\n",
    "time_format = '%Y-%m%d %H:%M:%S %Z%z'\n",
    "default_now = datetime.now()\n",
    "formatted_now = datetime.now().strftime(time_format)\n",
    "\n",
    "print(\"Date Time in defaut format: \", default_now, '\\n')\n",
    "print(\"Date Time in string format: \", formatted_now)"
   ]
  },
  {
   "cell_type": "markdown",
   "id": "3aad5ea7",
   "metadata": {},
   "source": [
    "### Converting current date and time to multiple timezones"
   ]
  },
  {
   "cell_type": "markdown",
   "id": "6833fb07",
   "metadata": {},
   "source": [
    "Now, we will create a list of time zones, and loop through it to convert the current time to that time zone. We will put various time zones from the US, Europe, Asia, and the UTC which is the standard one."
   ]
  },
  {
   "cell_type": "markdown",
   "id": "73ef3bc4",
   "metadata": {},
   "source": [
    "Now, we will create a list of time zones, and loop through it to convert the current time to that time zone. We will put various time zones from the US, Europe, Asia, and the UTC which is the standard one."
   ]
  },
  {
   "cell_type": "code",
   "execution_count": 7,
   "id": "f9538d66",
   "metadata": {},
   "outputs": [
    {
     "name": "stdout",
     "output_type": "stream",
     "text": [
      "Date Time in US/Central is 2022-0628 23:38:23 CDT-0500\n",
      "Date Time in Europe/London is 2022-0629 05:38:23 BST+0100\n",
      "Date Time in Asia/Kolkata is 2022-0629 10:08:23 IST+0530\n",
      "Date Time in Australia/Melbourne is 2022-0629 14:38:23 AEST+1000\n",
      "Date Time in UTC is 2022-0629 04:38:23 UTC+0000\n"
     ]
    }
   ],
   "source": [
    "timezones = ['US/Central', 'Europe/London', \n",
    "             'Asia/Kolkata', 'Australia/Melbourne', 'UTC']\n",
    "for tz in timezones:\n",
    "    dateTime = datetime.now(timezone(tz)).strftime(time_format)\n",
    "    print(f\"Date Time in {tz} is {dateTime}\")"
   ]
  },
  {
   "cell_type": "markdown",
   "id": "d22bc23f",
   "metadata": {},
   "source": [
    "After that we will loop through all the timezones in the list we created as the parameter of the now() method on the datetime library to get all the time zones and the current time in respective time zones. We will also convert it to string format for it to be more convenient to read."
   ]
  }
 ],
 "metadata": {
  "kernelspec": {
   "display_name": "Python 3",
   "language": "python",
   "name": "python3"
  },
  "language_info": {
   "codemirror_mode": {
    "name": "ipython",
    "version": 3
   },
   "file_extension": ".py",
   "mimetype": "text/x-python",
   "name": "python",
   "nbconvert_exporter": "python",
   "pygments_lexer": "ipython3",
   "version": "3.8.8"
  }
 },
 "nbformat": 4,
 "nbformat_minor": 5
}
